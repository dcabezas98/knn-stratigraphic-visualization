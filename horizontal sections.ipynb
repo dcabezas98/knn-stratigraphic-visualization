{
 "cells": [
  {
   "cell_type": "markdown",
   "metadata": {},
   "source": [
    "# Horizontal sections"
   ]
  },
  {
   "cell_type": "code",
   "execution_count": 1,
   "metadata": {},
   "outputs": [],
   "source": [
    "DATADIR='data/' # Directory with the data\n",
    "FIGURESDIR='figures/' # Figures produced"
   ]
  },
  {
   "cell_type": "code",
   "execution_count": 2,
   "metadata": {},
   "outputs": [],
   "source": [
    "import pandas as pd\n",
    "import numpy as np\n",
    "import matplotlib.pyplot as plt\n",
    "import matplotlib as mpl\n",
    "\n",
    "import os\n",
    "\n",
    "import shapely.geometry as geometry\n",
    "\n",
    "from sklearn.neighbors import KNeighborsClassifier"
   ]
  },
  {
   "cell_type": "code",
   "execution_count": 3,
   "metadata": {},
   "outputs": [],
   "source": [
    "ELEVATIONS=[0,-5,-10,-15,-20,-25,-30,-40,-50,-60,-80,-100]\n",
    "\n",
    "# Plot parameters\n",
    "SCATTER=True\n",
    "OPACITY=0.6\n",
    "FRAME=500"
   ]
  },
  {
   "cell_type": "code",
   "execution_count": 4,
   "metadata": {
    "scrolled": false
   },
   "outputs": [
    {
     "name": "stdout",
     "output_type": "stream",
     "text": [
      "Eleveation: 0\n",
      "Eleveation: -5\n",
      "Eleveation: -10\n",
      "Eleveation: -15\n",
      "Eleveation: -20\n",
      "Eleveation: -25\n",
      "Eleveation: -30\n",
      "Eleveation: -40\n",
      "Eleveation: -50\n",
      "Eleveation: -60\n",
      "Eleveation: -80\n",
      "Eleveation: -100\n"
     ]
    },
    {
     "data": {
      "text/plain": [
       "<Figure size 432x288 with 0 Axes>"
      ]
     },
     "metadata": {},
     "output_type": "display_data"
    }
   ],
   "source": [
    "dat=pd.read_excel(DATADIR+'hsd new basements.xls')\n",
    "dat=dat.drop(columns=['Codi'])\n",
    "\n",
    "ax=[dat.UTM_X.min()-FRAME,dat.UTM_X.max()+FRAME,dat.UTM_Y.min()-FRAME,dat.UTM_Y.max()+FRAME]\n",
    "minx_rounded = 1000 * round(ax[0]/1000)\n",
    "maxx_rounded = 1000 * round(ax[1]/1000)\n",
    "\n",
    "xx, yy = np.meshgrid(np.linspace(ax[0],ax[1],300),np.linspace(ax[2],ax[3],300))\n",
    "C=np.zeros(xx.shape,dtype = float)\n",
    "\n",
    "contour=pd.read_csv(DATADIR+'deltacontourn.csv')\n",
    "contour=contour.drop(columns=['Cota'])\n",
    "polygon=geometry.Polygon(zip(contour['UTM_X'],contour['UTM_Y']))\n",
    "\n",
    "outside=[] # Points outside the LRD contour\n",
    "for i in range(xx.shape[0]):\n",
    "    for j in range(xx.shape[1]):\n",
    "        if polygon.distance(geometry.Point(xx[i,j],yy[i,j]))>1:\n",
    "            outside.append((i,j))\n",
    "            \n",
    "xpol,ypol = polygon.exterior.xy\n",
    "\n",
    "# TODO ¿mas simple?\n",
    "cm = mpl.colors.ListedColormap(['cyan','black','yellow','black','gray','black','saddlebrown'])\n",
    "cm = cm(np.arange(cm.N))\n",
    "cm[:,-1]=np.array([OPACITY,0,OPACITY,0,OPACITY,0,OPACITY])\n",
    "cm = mpl.colors.ListedColormap(cm)\n",
    "epsilon=10**(-15)\n",
    "levels = [-0.5,0.5,1-epsilon,1+epsilon,1.5,2+epsilon,2.5,3.5]\n",
    "norm=mpl.colors.BoundaryNorm(levels, 7)\n",
    "\n",
    "for E in ELEVATIONS:\n",
    "    print('Eleveation:',E)\n",
    "\n",
    "    df=dat[dat.Cota==E] # We take the chosen elevation\n",
    "\n",
    "    gravels=df[df.Clase=='gravillas y gravas']\n",
    "    sands=df[df.Clase=='arenas']\n",
    "    clays=df[df.Clase=='arcillas y limos']\n",
    "    basements=df[df.Valor=='S']\n",
    "    \n",
    "    X=np.concatenate((np.array(gravels['UTM_X']),np.array(sands['UTM_X']),\n",
    "                      np.array(clays['UTM_X']),np.array(basements['UTM_X'])))\n",
    "    Y=np.concatenate((np.array(gravels['UTM_Y']),np.array(sands['UTM_Y']),\n",
    "                      np.array(clays['UTM_Y']),np.array(basements['UTM_Y'])))\n",
    "    Z=np.concatenate((np.array(gravels['Cota']),np.array(sands['Cota']),\n",
    "                      np.array(clays['Cota']),np.array(basements['Cota'])))\n",
    "    \n",
    "    clas=[0]*len(gravels)+[1]*len(sands)+[2]*len(clays)+[3]*len(basements)\n",
    "         \n",
    "        \n",
    "    data=list(zip(X,Y,Z))\n",
    "\n",
    "    classifier=KNeighborsClassifier(1,weights='distance')\n",
    "    classifier.fit(data,clas)\n",
    "\n",
    "    for i in range(xx.shape[0]):\n",
    "        d=list(zip(xx[i],yy[i],[E]*len(xx[i])))\n",
    "        C[i]=classifier.predict(d)\n",
    "\n",
    "    for (i,j) in outside:\n",
    "        C[i,j]=np.nan\n",
    "\n",
    "    plt.contourf(xx,yy,C, levels, cmap=cm, norm=norm, antialiased = True)\n",
    "\n",
    "    if SCATTER:\n",
    "        gravels0=gravels[gravels.Cota==E]\n",
    "        sands0=sands[sands.Cota==E]\n",
    "        clays0=clays[clays.Cota==E]\n",
    "        basements0=basements[basements.Cota==E]\n",
    "    \n",
    "        plt.scatter(gravels0['UTM_X'], gravels0['UTM_Y'], c='blue', s=5, alpha=0.8, label='gravillas')\n",
    "        plt.scatter(sands0['UTM_X'], sands0['UTM_Y'], c='orange', s=5, alpha=0.7, label='arenas')\n",
    "        plt.scatter(clays0['UTM_X'], clays0['UTM_Y'], c='black', s=5, alpha=0.6, label='arcillas')\n",
    "        plt.scatter(basements0['UTM_X'], basements0['UTM_Y'], c='brown', s=5, alpha=0.6, label='suelos')\n",
    "\n",
    "    plt.plot(xpol, ypol, alpha=0.6, color='red', linewidth=1.5, linestyle='dashed')    \n",
    "\n",
    "    plt.xlabel('UTM_X')\n",
    "    plt.ylabel('UTM_Y')\n",
    "\n",
    "    plt.xticks(np.arange(minx_rounded, maxx_rounded, step=3000))\n",
    "\n",
    "    plt.title(\"Height \"+str(E)+' m')\n",
    "    plt.axis(ax)\n",
    "\n",
    "    filename='height'+str(E)+'.png'\n",
    "\n",
    "    if SCATTER:\n",
    "        filename=FIGURESDIR+'horizontal sections/'+filename\n",
    "        os.makedirs(os.path.dirname(filename), exist_ok=True)\n",
    "        plt.savefig(filename, transparent=False, dpi=164, bbox_inches='tight')\n",
    "    else:\n",
    "        filename=FIGURESDIR+'horizontal sections no points/'+filename\n",
    "        os.makedirs(os.path.dirname(filename), exist_ok=True)\n",
    "        plt.savefig(filename, transparent=False, dpi=164, bbox_inches='tight')\n",
    "\n",
    "    plt.clf()\n",
    "    #plt.show()"
   ]
  }
 ],
 "metadata": {
  "kernelspec": {
   "display_name": "Python 3",
   "language": "python",
   "name": "python3"
  },
  "language_info": {
   "codemirror_mode": {
    "name": "ipython",
    "version": 3
   },
   "file_extension": ".py",
   "mimetype": "text/x-python",
   "name": "python",
   "nbconvert_exporter": "python",
   "pygments_lexer": "ipython3",
   "version": "3.8.10"
  }
 },
 "nbformat": 4,
 "nbformat_minor": 4
}
