{
 "cells": [
  {
   "cell_type": "markdown",
   "metadata": {},
   "source": [
    "# A nearest neighbor approach for stratigraphic 3D modelling: an example from the Llobregat River Delta (Barcelona, NE Spain)"
   ]
  },
  {
   "cell_type": "markdown",
   "metadata": {},
   "source": [
    "We define the route and the directories where the data and figures will be located."
   ]
  },
  {
   "cell_type": "code",
   "execution_count": 1,
   "metadata": {},
   "outputs": [],
   "source": [
    "DATADIR='data/' # Directory with the data\n",
    "FIGURESDIR='figures/' # Figures produced"
   ]
  },
  {
   "cell_type": "markdown",
   "metadata": {},
   "source": [
    "In the file functions.py, all the functions that will be used to obtain the models are defined. The file starts with a few lines of input with the necessary Python packages."
   ]
  },
  {
   "cell_type": "code",
   "execution_count": 2,
   "metadata": {},
   "outputs": [],
   "source": [
    "import functions\n",
    "from functions import *"
   ]
  },
  {
   "cell_type": "markdown",
   "metadata": {},
   "source": [
    "We read the boreholes data and eliminate the column 'Codi', that will not be necessary."
   ]
  },
  {
   "cell_type": "code",
   "execution_count": 3,
   "metadata": {},
   "outputs": [],
   "source": [
    "boreholes_data=pd.read_excel(DATADIR+'hsd new basements.xls')\n",
    "boreholes_data=boreholes_data.drop(columns=['Codi'])"
   ]
  },
  {
   "cell_type": "markdown",
   "metadata": {},
   "source": [
    "We have used Google Earth to draw the delta contour and we have created the file 'deltacontourn.csv' with the corresponding data. We read this file."
   ]
  },
  {
   "cell_type": "code",
   "execution_count": 4,
   "metadata": {},
   "outputs": [],
   "source": [
    "delta_contourn=pd.read_csv(DATADIR+'deltacontourn.csv')"
   ]
  },
  {
   "cell_type": "markdown",
   "metadata": {},
   "source": [
    "We use the geometry function 'Polygon' to create a 2D polygon with the X and Y coordinates of the delta contour."
   ]
  },
  {
   "cell_type": "code",
   "execution_count": 5,
   "metadata": {},
   "outputs": [],
   "source": [
    "contourn_poly=geometry.Polygon(zip(delta_contourn['UTM_X'],\n",
    "                                   delta_contourn['UTM_Y']))"
   ]
  },
  {
   "cell_type": "markdown",
   "metadata": {},
   "source": [
    "## Horizontal sections"
   ]
  },
  {
   "cell_type": "markdown",
   "metadata": {},
   "source": [
    "We state a frame and define the x and y axis limits."
   ]
  },
  {
   "cell_type": "code",
   "execution_count": 6,
   "metadata": {},
   "outputs": [],
   "source": [
    "FRAME=500\n",
    "axis=[boreholes_data.UTM_X.min()-FRAME,boreholes_data.UTM_X.max()+FRAME,\n",
    "      boreholes_data.UTM_Y.min()-FRAME,boreholes_data.UTM_Y.max()+FRAME]\n",
    "minx_rounded = 1000 * round(axis[0]/1000)\n",
    "maxx_rounded = 1000 * round(axis[1]/1000)"
   ]
  },
  {
   "cell_type": "markdown",
   "metadata": {},
   "source": [
    "We decided to take data every 5 meters of depth. To do this, we define a list with the heights (the Z coordinate) that we delimit between 0 and -120 meters. This list will be used to select from boreholes_data those at each height. "
   ]
  },
  {
   "cell_type": "code",
   "execution_count": 7,
   "metadata": {},
   "outputs": [],
   "source": [
    "Heights=[-z for z in range(0,121,5)]"
   ]
  },
  {
   "cell_type": "markdown",
   "metadata": {},
   "source": [
    "The function `layer_function(data,h)` returns a list of leng 4. If `l_f` denotes `layer_function(boreholes_data,h)`,\n",
    "- In `l_f[0]` we select the columns in boreholes_data corresponding to those whose height (variable 'Cota') is equal to h.\n",
    "- In `l_f[1]` we select from `l_f[0]` the points corresponding to gravels (variable 'Clase' equal to 'gravillas').\n",
    "- In `l_f[2]` we select from `l_f[0]` the points corresponding to sands (variable 'Clase' equal to 'arenas').\n",
    "- In `l_f[3]` we select from `l_f[0]` the points corresponding to clays (variable 'Clase' equal to 'arcillas').\n",
    "- In `l_f[4]` we select from `l_f[0]` the points corresponding to basement (variable 'Clase' equal to 'S')."
   ]
  },
  {
   "cell_type": "markdown",
   "metadata": {},
   "source": [
    "Now we are ready to employ the Python Knn function given by the *scikit-learn* community. We define the function `knn(data,height,ax,grd)` to do this job. Then we apply this function on each lithosome and height on Heights to create the predicted points for each lithosome and use the python library *matplotlib* to create 2D figures with the lithosomes at each height. We store those figures in the 'horizontal slices with points 1 layer' directory inside the figures directory."
   ]
  },
  {
   "cell_type": "code",
   "execution_count": 8,
   "metadata": {},
   "outputs": [],
   "source": [
    "# %%script --no-raise-error false\n",
    "\n",
    "# Plot parameters\n",
    "SCATTER=True\n",
    "OPACITY=0.6\n",
    "            \n",
    "xpol,ypol = contourn_poly.exterior.xy\n",
    "\n",
    "# Color mapping\n",
    "cm = mpl.colors.ListedColormap(['cyan','black','yellow','black','gray','black','saddlebrown'])\n",
    "cm = cm(np.arange(cm.N))\n",
    "cm[:,-1]=np.array([OPACITY,0,OPACITY,0,OPACITY,0,OPACITY])\n",
    "cm = mpl.colors.ListedColormap(cm)\n",
    "epsilon=10**(-15)\n",
    "levels = [-0.5,0.5,1-epsilon,1+epsilon,1.5,2+epsilon,2.5,3.5]\n",
    "norm=mpl.colors.BoundaryNorm(levels, 7)\n",
    "\n",
    "for h in Heights:\n",
    "    print('Height:',h)\n",
    "    layer=layer_function(boreholes_data,h)\n",
    "    xyC=knn(boreholes_data,contourn_poly,h,axis,200)\n",
    "    plt.contourf(xyC[0],xyC[1],xyC[2], levels, cmap=cm, norm=norm, antialiased = True)\n",
    "    if SCATTER:\n",
    "        plt.scatter(layer[1]['UTM_X'], layer[1]['UTM_Y'], c='blue', s=5, alpha=0.8, label='gravels')\n",
    "        plt.scatter(layer[2]['UTM_X'], layer[2]['UTM_Y'], c='orange', s=5, alpha=0.7, label='sands')\n",
    "        plt.scatter(layer[3]['UTM_X'], layer[3]['UTM_Y'], c='black', s=5, alpha=0.6, label='clays')\n",
    "        plt.scatter(layer[4]['UTM_X'], layer[4]['UTM_Y'], c='brown', s=5, alpha=0.6, label='basement')\n",
    "\n",
    "    plt.plot(xpol, ypol, alpha=0.6, color='red', linewidth=1.5, linestyle='dashed')    \n",
    "            \n",
    "    plt.xlabel('UTM_X')\n",
    "    plt.ylabel('UTM_Y')\n",
    "\n",
    "    plt.xticks(np.arange(minx_rounded, maxx_rounded, step=3000))\n",
    "\n",
    "    plt.title(\"Height \"+str(h)+' m')\n",
    "    plt.axis(axis)\n",
    "\n",
    "    filename='height '+str(h)+'.png'\n",
    "\n",
    "    if SCATTER:\n",
    "        filename=FIGURESDIR+'horizontal slices with points 1 layer/'+filename\n",
    "        os.makedirs(os.path.dirname(filename), exist_ok=True)\n",
    "        plt.savefig(filename, transparent=False, dpi=164, bbox_inches='tight')\n",
    "    else:\n",
    "        filename=FIGURESDIR+'horizontal slices 1 layer/'+filename\n",
    "        os.makedirs(os.path.dirname(filename), exist_ok=True)\n",
    "        plt.savefig(filename, transparent=False, dpi=164, bbox_inches='tight')\n",
    "\n",
    "    plt.clf()\n",
    "    #plt.show()"
   ]
  },
  {
   "cell_type": "markdown",
   "metadata": {},
   "source": [
    "## The 3D figure with the horizontal section"
   ]
  },
  {
   "cell_type": "markdown",
   "metadata": {},
   "source": [
    "We can also use the data predicted by the knn algorithm to create the interactive HTML figure 3D_horizontal sections_LRD.html with the positions of the horizontal sections performed above. For this purpose we will apply the plotly.graph_objects `Scatter3d` function, but we first have to prepare the data by using some auxiliary functions."
   ]
  },
  {
   "cell_type": "markdown",
   "metadata": {},
   "source": [
    "We extract from `knn(data,cp,height,ax,grid)` the data whose class is given by the variable cls. The classes are: 0 for gravels, 1 for sands, 2 for clays, and 3 for basement, respectively."
   ]
  },
  {
   "cell_type": "code",
   "execution_count": 9,
   "metadata": {},
   "outputs": [],
   "source": [
    "data_split=[[],[],[],[]]\n",
    "for h in Heights:\n",
    "    cc=knn(boreholes_data,contourn_poly,h,axis,150)\n",
    "    for c in range(4):\n",
    "        x=[cc[0][i,j] for i in range(cc[0].shape[0]) for j in range(cc[0].shape[1]) if cc[2][i,j]==c]\n",
    "        y=[cc[1][i,j] for i in range(cc[1].shape[0]) for j in range(cc[1].shape[1]) if cc[2][i,j]==c]\n",
    "        z=[h for i in range(cc[0].shape[0]) for j in range(cc[0].shape[1]) if cc[2][i,j]==c]\n",
    "        data_split[c].append([x,y,z])\n",
    "\n",
    "gravels_knn=data_split[0]\n",
    "sands_knn=data_split[1]\n",
    "clays_knn=data_split[2]\n",
    "basement_knn=data_split[3]"
   ]
  },
  {
   "cell_type": "markdown",
   "metadata": {},
   "source": [
    "The `data_p(list,names,colors,symbols,size)` function applies the plotly.graph_objects 'Scatter3d' function to 'list', which is a list of lists of xyz coordinates, to create the data 3D figure environment. In the variable 'names' we indicate the names in the legend, in the variable 'colors' we indicate the colors of the markers, in the variable 'symbols' we indicate the symbols used as markers and in the variable 'siz' we indicate the size of the markers."
   ]
  },
  {
   "cell_type": "code",
   "execution_count": 10,
   "metadata": {},
   "outputs": [],
   "source": [
    "gravels_names=['gravels height '+str(h) for h in Heights]\n",
    "gravels_colors=['skyblue' for h in Heights]\n",
    "gravels_symbols=['circle' for h in Heights]\n",
    "\n",
    "gravels_data=data_p(gravels_knn,gravels_names,gravels_colors,gravels_symbols,3)"
   ]
  },
  {
   "cell_type": "code",
   "execution_count": 11,
   "metadata": {},
   "outputs": [],
   "source": [
    "sands_names=['sands height '+str(h) for h in Heights]\n",
    "sands_colors=['lemonchiffon' for h in Heights]\n",
    "sands_symbols=['circle' for h in Heights]\n",
    "\n",
    "sands_data=data_p(sands_knn,sands_names,sands_colors,sands_symbols,3)"
   ]
  },
  {
   "cell_type": "code",
   "execution_count": 12,
   "metadata": {},
   "outputs": [],
   "source": [
    "clays_names=['clays height '+str(h) for h in Heights]\n",
    "clays_colors=['whitesmoke' for h in Heights]\n",
    "clays_symbols=['circle' for h in Heights]\n",
    "\n",
    "clays_data=data_p(clays_knn,clays_names,clays_colors,clays_symbols,3)"
   ]
  },
  {
   "cell_type": "code",
   "execution_count": 13,
   "metadata": {},
   "outputs": [],
   "source": [
    "basement_names=['basement height '+str(h) for h in Heights]\n",
    "basement_colors=['darkgoldenrod' for h in Heights]\n",
    "basement_symbols=['circle' for h in Heights]\n",
    "\n",
    "basement_data=data_p(basement_knn,basement_names,basement_colors,basement_symbols,3)"
   ]
  },
  {
   "cell_type": "markdown",
   "metadata": {},
   "source": [
    "The function `coordinates(data,position)` lists the UTM_X, UTM_Y and Z coordinates extracted from the variable `dat` by looking at the data indicated at the variable `positions`."
   ]
  },
  {
   "cell_type": "code",
   "execution_count": 14,
   "metadata": {},
   "outputs": [],
   "source": [
    "xyzcontourn=coordinates(DATADIR+'deltacontourn.csv',[0,1,2])"
   ]
  },
  {
   "cell_type": "markdown",
   "metadata": {},
   "source": [
    "We want to add to the figure the contourn shape at each height, so we have to create the contourn data for this."
   ]
  },
  {
   "cell_type": "code",
   "execution_count": 23,
   "metadata": {},
   "outputs": [],
   "source": [
    "zcontourn=[[h+0.3 for i in range(len(xyzcontourn[0]))] for h in Heights]\n",
    "\n",
    "contourn_data=[go.Scatter3d(x=xyzcontourn[0],y=xyzcontourn[1],z=a, mode=\"lines\",\n",
    "                           line_width=5,\n",
    "                           name='_',\n",
    "                           showlegend=False,\n",
    "                           opacity=0.1,\n",
    "                           marker = dict(\n",
    "                               size = 2,\n",
    "                               opacity=0.1,\n",
    "                               color = 'gray'\n",
    "                               )\n",
    "                          )\n",
    "      for a in zcontourn[1:]]"
   ]
  },
  {
   "cell_type": "markdown",
   "metadata": {},
   "source": [
    "The function bounds(list) returns some bounds asociated to the variable 'list', where 'list' is a list obtained using the above function 'coordinates'. These bounds are used to delimit the bounds of the HTML figure we are going to create."
   ]
  },
  {
   "cell_type": "code",
   "execution_count": 24,
   "metadata": {},
   "outputs": [],
   "source": [
    "bound=bounds(xyzcontourn)"
   ]
  },
  {
   "cell_type": "markdown",
   "metadata": {},
   "source": [
    "To maintain the aspect ratio of the HTML image we are also going to add invisible marks at each height in one corner of the image. We don't want to add a name for these marks to the leyend so we use the function 'data_p_nl' with is similar to 'data_p' but 'data_p_nl' skips the leyend.  "
   ]
  },
  {
   "cell_type": "code",
   "execution_count": 25,
   "metadata": {},
   "outputs": [],
   "source": [
    "marks=[[bound[0]-100 for h in Heights],[bound[2]-100 for h in Heights],Heights]\n",
    "marks_data=data_p_nl([marks],['marks'],['ghostWhite'],['cross'],1)  "
   ]
  },
  {
   "cell_type": "markdown",
   "metadata": {},
   "source": [
    "We are ready to implement the HTML 3d figure\n",
    "3D_horizontal_sections_LRD.html which will be located in the figure directory. If this figure weighs too much to be handled by your browser you can reduce the size of the 'Heights' list taking for example values every 10 meters instead of every 5 meters."
   ]
  },
  {
   "cell_type": "code",
   "execution_count": 26,
   "metadata": {},
   "outputs": [
    {
     "data": {
      "text/plain": [
       "'figures/3D_horizontal_sections_LRD.html'"
      ]
     },
     "execution_count": 26,
     "metadata": {},
     "output_type": "execute_result"
    }
   ],
   "source": [
    "fdata=gravels_data+sands_data+clays_data+basement_data+marks_data+contourn_data\n",
    "\n",
    "fig=go.Figure(data=fdata)\n",
    "\n",
    "fig.add_trace(go.Scatter3d(x=xyzcontourn[0],y=xyzcontourn[1],z=xyzcontourn[2], mode=\"lines\",\n",
    "                           line_width=5,\n",
    "                           name='Delta Contour',\n",
    "                           marker = dict(\n",
    "                               size = 4,\n",
    "                               color = 'black'\n",
    "                               )\n",
    "                          )\n",
    "             )\n",
    "\n",
    "fig.update_layout( title=\"3D boreholes Llobregat Delta, Z scale is x 50.\",\n",
    "    scene=dict(aspectratio=dict(x=2, y=2, z=0.5),\n",
    "                             xaxis = dict(range=[bound[0]-2000,bound[1]+2000],),\n",
    "                             yaxis = dict(range=[bound[2]-2000,bound[3]+2000])\n",
    "                            )\n",
    "                 )\n",
    "\n",
    "\n",
    "#fig.show()\n",
    "go_offline.plot(fig,filename=FIGURESDIR+'3D_horizontal_sections_LRD.html',validate=True, auto_open=False)"
   ]
  },
  {
   "cell_type": "markdown",
   "metadata": {},
   "source": [
    "# 3D stratigraphy of the onshore Quaternary LRD and Pliocene basement top surface."
   ]
  },
  {
   "cell_type": "markdown",
   "metadata": {},
   "source": [
    "The objective of this section is to create the 3D figure \n",
    "3D_lithosomes_LRD.html that gives a complete view of the basement and lithosomes of the LRD. \n",
    "\n",
    "The 3D view of the horizontal sections in the LRD  allowed performing a 3D figure for the lithosomes (gravels and coarse sands) and  top Pliocene basement surface. "
   ]
  },
  {
   "cell_type": "markdown",
   "metadata": {},
   "source": [
    "## The lithosomes."
   ]
  },
  {
   "cell_type": "markdown",
   "metadata": {},
   "source": [
    "By looking at the figure 3D_horizontal_sections_LRD.html with the knn predicions at each height we observe several clusters of material. We are going to use this info to form the lithosomes. We will focus our representation on sands and gravels. In order to define those clusters of points, we start by selecting from the knn predicted data a point in each one of them. The poits selected for gravels and sand are labeled with the letters p and q respectivelly. "
   ]
  },
  {
   "cell_type": "code",
   "execution_count": 27,
   "metadata": {},
   "outputs": [],
   "source": [
    "# Points for gravels.\n",
    "p1=(414522,4568893,-115)\n",
    "p2=(418355, 4570004,-80)\n",
    "p3=(423682,4573012,-60)\n",
    "p4=(424747,4574333,-65)\n",
    "p5=(420960, 4571183,-65)\n",
    "p6=(427019,4578055,-50)\n",
    "p7=(422096,4577769,-30)\n",
    "p8=(414901,4570897,-30)\n",
    "p9=(417173,4571183,-30)\n",
    "p10=(427777,4579773,-30)\n",
    "p11=(430427,4579773,-25)\n",
    "p12=(418309,4573474,-20)\n",
    "p13=(417931,4582064,-10)\n",
    "p14=(425126,4577769,0)\n",
    "\n",
    "gravels_selection1=[p1,p2,p3,p4,p5,p6,p7,p8,p9,p10,p11,p12,p13,p14]\n",
    "gravels_selection2=[[x[0] for x in gravels_selection1],\n",
    "                    [x[1] for x in gravels_selection1],\n",
    "                    [x[2] for x in gravels_selection1]]"
   ]
  },
  {
   "cell_type": "code",
   "execution_count": 28,
   "metadata": {},
   "outputs": [],
   "source": [
    "# Points for sands.\n",
    "q1=(423611,4570611,-100)\n",
    "q2=(415658,4568606,-90)\n",
    "q3=(422096,4570038,-85)\n",
    "q4=(425883,4572042,-80)\n",
    "q5=(427398,4576623,-70)\n",
    "q6=(423990,4575192,-55)\n",
    "q7=(414144,4568893,-15)\n",
    "q8=(418688,4570611,-10)\n",
    "q9=(419445,4574903,-5)\n",
    "q10=(428155,4576910,-5)\n",
    "q11=(420203,4572901,0)\n",
    "q12=(423232,4572329,0)\n",
    "q13=(422475,4576051,0)\n",
    "q14=(428155,4574333,0)\n",
    "q15=(425883,4578628,0)\n",
    "q16=(427398,4578055,0)\n",
    "q17=(430806,4580059,0)\n",
    "\n",
    "sands_selection1=[q1,q2,q3,q4,q5,q6,q7,q8,q9,q10,q11,q12,q13,q14,q15,q16,q17]\n",
    "sands_selection2=[[x[0] for x in sands_selection1],\n",
    "                    [x[1] for x in sands_selection1],\n",
    "                    [x[2] for x in sands_selection1]]"
   ]
  },
  {
   "cell_type": "markdown",
   "metadata": {},
   "source": [
    "We use the function `data_p` to prepare the data for the figure"
   ]
  },
  {
   "cell_type": "code",
   "execution_count": 29,
   "metadata": {},
   "outputs": [],
   "source": [
    "data_seletedgr=data_p([gravels_selection2],['selectedgr'],['black'],['circle'],3)\n",
    "data_seletedsnd=data_p([sands_selection2],['selectedsnd'],['black'],['circle'],3)"
   ]
  },
  {
   "cell_type": "markdown",
   "metadata": {},
   "source": [
    "The function `grouping` applies a recursive cluster procedure to group the points around a given start point. It is quite inefficient, but its definition is very simple and it gets the job done."
   ]
  },
  {
   "cell_type": "markdown",
   "metadata": {},
   "source": [
    "Once the granulometry data of a lithosome is clustered using the nucleation strategy performed by the 'grouping' function. We use the Convex Hull algorithm developed by the SciPy community (https://docs.scipy.org/doc/scipy/reference/generated/scipy.spatial.ConvexHull.html) to wraps the computed groups. The 3D Convex Hull of a georeferenced dataset is the smallest polyhedron that wraps up all them. We calculate the Convex Hull of each group we obtain.\n",
    "\n",
    "To calculate the corresponding Convex Hull we define the function `lithosome`. This `lithosome` function uses the `grouping` function as auxiliary and its output is a list of length four whose elements are the points, vertices, simplices and name respetively of the computed convex hull."
   ]
  },
  {
   "cell_type": "markdown",
   "metadata": {},
   "source": [
    "Sometimes we have to remove some points in a group if the height of the points in the group is too big. This act of elimination will make the output more suitable. We also have to select the radio to get proper clusters.\n",
    "\n",
    "We have also reduced the 'grid' parameter from 150 to 50, to reduce computation time."
   ]
  },
  {
   "cell_type": "code",
   "execution_count": 30,
   "metadata": {},
   "outputs": [],
   "source": [
    "gravels_knn50=[xyc(boreholes_data,contourn_poly,axis,0,h,50) for h in Heights]\n",
    "sands_knn50=[xyc(boreholes_data,contourn_poly,axis,1,h,50) for h in Heights]"
   ]
  },
  {
   "cell_type": "code",
   "execution_count": 31,
   "metadata": {},
   "outputs": [],
   "source": [
    "# lithosomes for gravels\n",
    "\n",
    "xygr_knn=[list(zip(x[0],x[1])) for x in gravels_knn50]\n",
    "\n",
    "gravels_lit1=lithosome(p1,xygr_knn,400,Heights,'grlit1')\n",
    "gravels_lit1_b=[x for x in gravels_lit1[0] if x[2]< -35]\n",
    "h1_b = ConvexHull(gravels_lit1_b)\n",
    "gravels_lit1b=[h1_b.points,h1_b.vertices,h1_b.simplices,'grlit1']\n",
    "\n",
    "gravels_lit2=lithosome(p2,xygr_knn,400,Heights,'grlit2')\n",
    "gravels_lit3=lithosome(p3,xygr_knn,400,Heights,'grlit3')\n",
    "gravels_lit4=lithosome(p4,xygr_knn,400,Heights,'grlit4')\n",
    "gravels_lit5=lithosome(p5,xygr_knn,400,Heights,'grlit5')\n",
    "gravels_lit6=lithosome(p6,xygr_knn,400,Heights,'grlit6')\n",
    "gravels_lit7=lithosome(p7,xygr_knn,400,Heights,'grlit7')\n",
    "gravels_lit8=lithosome(p8,xygr_knn,400,Heights,'grlit8')\n",
    "gravels_lit9=lithosome(p9,xygr_knn,400,Heights,'grlit9')\n",
    "gravels_lit10=lithosome(p10,xygr_knn,400,Heights,'grlit10')\n",
    "gravels_lit11=lithosome(p11,xygr_knn,500,Heights,'grlit11')\n",
    "gravels_lit12=lithosome(p12,xygr_knn,500,Heights,'grlit12')\n",
    "gravels_lit13=lithosome(p13,xygr_knn,400,Heights,'grlit13')\n",
    "gravels_lit14=lithosome(p14,xygr_knn,400,Heights,'grlit14')\n"
   ]
  },
  {
   "cell_type": "code",
   "execution_count": 32,
   "metadata": {},
   "outputs": [],
   "source": [
    "# List of gravels lithosomes \n",
    "\n",
    "list_grlithosomes=[gravels_lit1b,gravels_lit2,gravels_lit3,gravels_lit4,\n",
    "                  gravels_lit5,gravels_lit6,gravels_lit7,gravels_lit8,\n",
    "                  gravels_lit9,gravels_lit10,gravels_lit11,gravels_lit12,\n",
    "                  gravels_lit13,gravels_lit14]"
   ]
  },
  {
   "cell_type": "code",
   "execution_count": 33,
   "metadata": {},
   "outputs": [],
   "source": [
    "# lithosome for sands\n",
    "\n",
    "xysnd_knn=[list(zip(x[0],x[1])) for x in sands_knn50]\n",
    "\n",
    "snd_lit1=lithosome(q1,xysnd_knn,400,Heights,'sndlit1')\n",
    "snd_lit1_b=[x for x in snd_lit1[0] if x[2]< -89]\n",
    "ha1_1b = ConvexHull(snd_lit1_b)\n",
    "snd_lit1b=[ha1_1b.points,ha1_1b.vertices,ha1_1b.simplices,'sndlit1']\n",
    "\n",
    "snd_lit2=lithosome(q2,xysnd_knn,400,Heights,'sndlit2')\n",
    "snd_lit2_b=[x for x in snd_lit2[0] if x[2]<-70]\n",
    "ha2_1b = ConvexHull(snd_lit2_b)\n",
    "snd_lit2b=[ha2_1b.points,ha2_1b.vertices,ha2_1b.simplices,'sndlit2']\n",
    "\n",
    "snd_lit3=lithosome(q3,xysnd_knn,400,Heights,'sndlit3')\n",
    "snd_lit3_b=[x for x in snd_lit3[0] if x[2]< -70 and -90<x[2]]+[ \n",
    " [ 4.20960571e+05,  4.56975163e+06, -9.00000000e+01],\n",
    " [ 4.21339265e+05,  4.56946531e+06, -9.00000000e+01],\n",
    " [ 4.21339265e+05,  4.56975163e+06, -9.00000000e+01],\n",
    " [ 4.21339265e+05,  4.57003796e+06, -9.00000000e+01],\n",
    " [ 4.21717959e+05,  4.56975163e+06, -9.00000000e+01],\n",
    " [ 4.21717959e+05,  4.57003796e+06, -9.00000000e+01],\n",
    " [ 4.21717959e+05,  4.57032429e+06, -9.00000000e+01],\n",
    " [ 4.21717959e+05,  4.57061061e+06, -9.00000000e+01],\n",
    " [ 4.22096653e+05,  4.56975163e+06, -9.00000000e+01],\n",
    " [ 4.22096653e+05,  4.57003796e+06, -9.00000000e+01],\n",
    " [ 4.22096653e+05,  4.57032429e+06, -9.00000000e+01],\n",
    " [ 4.22096653e+05,  4.57061061e+06, -9.00000000e+01],\n",
    " [ 4.22475347e+05,  4.57003796e+06, -9.00000000e+01],\n",
    " [ 4.22475347e+05,  4.57032429e+06, -9.00000000e+01],\n",
    " [ 4.22475347e+05,  4.57061061e+06, -9.00000000e+01]]\n",
    "ha3_1b = ConvexHull(snd_lit3_b)\n",
    "snd_lit3b=[ha3_1b.points,ha3_1b.vertices,ha3_1b.simplices,'sndlit3']\n",
    "\n",
    "snd_lit4=lithosome(q4,xysnd_knn,400,Heights,'sndlit4')\n",
    "snd_lit4_b=[x for x in snd_lit4[0] if x[2]< -10 and x[2]>-90]+[\n",
    " [ 4.25504898e+05,  4.57118327e+06, -9.00000000e+01],\n",
    " [ 4.25504898e+05,  4.57146959e+06, -9.00000000e+01],\n",
    " [ 4.25504898e+05,  4.57175592e+06, -9.00000000e+01],\n",
    " [ 4.25504898e+05,  4.57204224e+06, -9.00000000e+01],\n",
    " [ 4.25504898e+05,  4.57232857e+06, -9.00000000e+01],\n",
    " [ 4.25504898e+05,  4.57261490e+06, -9.00000000e+01],\n",
    " [ 4.25883592e+05,  4.57232857e+06, -9.00000000e+01],\n",
    " [ 4.25883592e+05,  4.57261490e+06, -9.00000000e+01],\n",
    " [ 4.25883592e+05,  4.57290122e+06, -9.00000000e+01],\n",
    " [ 4.25883592e+05,  4.57318755e+06, -9.00000000e+01],\n",
    " [ 4.25883592e+05,  4.57347388e+06, -9.00000000e+01],\n",
    " [ 4.26262286e+05,  4.57175592e+06, -9.00000000e+01],\n",
    " [ 4.26262286e+05,  4.57204224e+06, -9.00000000e+01],\n",
    " [ 4.26262286e+05,  4.57232857e+06, -9.00000000e+01],\n",
    " [ 4.26262286e+05,  4.57261490e+06, -9.00000000e+01],\n",
    " [ 4.26262286e+05,  4.57290122e+06, -9.00000000e+01],\n",
    " [ 4.26262286e+05,  4.57318755e+06, -9.00000000e+01],\n",
    " [ 4.2664098e+05,  4.5726149e+06, -9.0000000e+01],\n",
    " [ 4.26640980e+05,  4.57290122e+06, -9.00000000e+01]]\n",
    "ha4_1b = ConvexHull(snd_lit4_b)\n",
    "snd_lit4b=[ha4_1b.points,ha4_1b.vertices,ha4_1b.simplices,'sndlit4']\n",
    "\n",
    "snd_lit5=lithosome(q5,xysnd_knn,400,Heights,'sndlit5')\n",
    "snd_lit5_b=[x for x in snd_lit5[0] if x[2]<-50]\n",
    "ha5_1b = ConvexHull(snd_lit5_b)\n",
    "snd_lit5b=[ha5_1b.points,ha5_1b.vertices,ha5_1b.simplices,'sndlit5']\n",
    "\n",
    "snd_lit6=lithosome(q6,xysnd_knn,400,Heights,'sndlit6')\n",
    "snd_lit6_b=[x for x in snd_lit6[0] if x[2]<-50]\n",
    "ha6_1b = ConvexHull(snd_lit6_b)\n",
    "snd_lit6b=[ha6_1b.points,ha6_1b.vertices,ha6_1b.simplices,'sndlit6']\n",
    "\n",
    "snd_lit7=lithosome(q7,xysnd_knn,400,Heights,'sndlit7')\n",
    "snd_lit7_b=[x for x in snd_lit7[0] if x[2]>-30]\n",
    "ha7_1b = ConvexHull(snd_lit7_b)\n",
    "snd_lit7b=[ha7_1b.points,ha7_1b.vertices,ha7_1b.simplices,'sndlit8']\n",
    "\n",
    "snd_lit8=lithosome(q8,xysnd_knn,400,Heights,'sndlit8')\n",
    "snd_lit8_b=[x for x in snd_lit8[0] if x[2]>-30 and x[2]<-4]\n",
    "ha8_1b = ConvexHull(snd_lit8_b)\n",
    "snd_lit8b=[ha8_1b.points,ha8_1b.vertices,ha8_1b.simplices,'sndlit8']\n",
    "\n",
    "snd_lit9=lithosome(q9,xysnd_knn,400,Heights,'sndlit9')\n",
    "snd_lit9_b=[x for x in snd_lit9[0] if x[2]>-25]\n",
    "ha9_1b = ConvexHull(snd_lit9_b)\n",
    "snd_lit9b=[ha9_1b.points,ha9_1b.vertices,ha9_1b.simplices,'sndlit9']\n",
    "\n",
    "snd_lit10=lithosome(q10,xysnd_knn,400,Heights,'sndlit10')\n",
    "snd_lit10_b=[x for x in snd_lit10[0] if x[2]>-35]\n",
    "ha10_2b = ConvexHull(snd_lit10_b)\n",
    "snd_lit10b=[ha10_2b.points,ha10_2b.vertices,ha10_2b.simplices,'sndlit10']\n",
    "\n",
    "snd_lit11=lithosome(q11,xysnd_knn,400,Heights,'sndlit11')\n",
    "snd_lit11_b=[x for x in snd_lit11[0] if x[2]>-36]\n",
    "ha11_1b = ConvexHull(snd_lit11_b)\n",
    "snd_lit11b=[ha11_1b.points,ha11_1b.vertices,ha11_1b.simplices,'sndlit11']\n",
    "\n",
    "snd_lit12=lithosome(q12,xysnd_knn,400,Heights,'sndlit12')\n",
    "snd_lit12_b=[x for x in snd_lit12[0] if x[2]>-37 and x[1]<4576053]\n",
    "ha12_2b = ConvexHull(snd_lit12_b)\n",
    "snd_lit12b=[ha12_2b.points,ha12_2b.vertices,ha12_2b.simplices,'sndlit12']\n",
    "\n",
    "snd_lit13=lithosome(q13,xysnd_knn,400,Heights,'sndlit13')\n",
    "snd_lit13_b=[x for x in snd_lit13[0] if x[2]>-27]\n",
    "ha13_3b = ConvexHull(snd_lit13_b)\n",
    "snd_lit13b=[ha13_3b.points,ha13_3b.vertices,ha13_3b.simplices,'sndlit13']\n",
    "\n",
    "snd_lit14=lithosome(q14,xysnd_knn,400,Heights,'sndlit14')\n",
    "snd_lit14_b=[x for x in snd_lit14[0] if x[2]>-57]\n",
    "ha14_4b = ConvexHull(snd_lit14_b)\n",
    "snd_lit14b=[ha14_4b.points,ha14_4b.vertices,ha14_4b.simplices,'sndlit14']\n",
    "\n",
    "snd_lit15=lithosome(q15,xysnd_knn,400,Heights,'sndlit15')\n",
    "snd_lit15_b=[x for x in snd_lit15[0] if  x[1]>4578055 ]\n",
    "ha15_5b = ConvexHull(snd_lit15_b)\n",
    "snd_lit15b=[ha15_5b.points,ha15_5b.vertices,ha15_5b.simplices,'sndlit15']\n",
    "\n",
    "snd_lit16=lithosome(q16,xysnd_knn,400,Heights,'sndlit16')\n",
    "snd_lit16_b=[x for x in snd_lit16[0] if x[2]>-60 and x[1]>4576020 and x[1]<4578100 and x[0]>425883]\n",
    "ha16_6b = ConvexHull(snd_lit16_b)\n",
    "snd_lit16b=[ha16_6b.points,ha16_6b.vertices,ha16_6b.simplices,'sndlit16']\n",
    "\n",
    "snd_lit17=lithosome(q17,xysnd_knn,500,Heights,'sndlit17')\n",
    "\n",
    "# List of sands lithosomes\n",
    "\n",
    "list_sndlithosomes=[snd_lit1b,snd_lit2b,snd_lit3b,snd_lit4b,snd_lit5b,\n",
    "                   snd_lit6b,snd_lit7b,snd_lit8b,snd_lit9b,snd_lit10b,\n",
    "                   snd_lit11b,snd_lit12b,snd_lit13b,snd_lit14b,snd_lit15b,\n",
    "                   snd_lit16b,snd_lit17]\n"
   ]
  },
  {
   "cell_type": "markdown",
   "metadata": {},
   "source": [
    "Now that we have:\n",
    "- All the points in the grid classified by their granulometry, thanks to the knn algorithm.\n",
    "- All of them grouped by lithosomes, by the grouping function, and \n",
    "- All clusters wrapped together by their corresponding convex wrappings.\n",
    "\n",
    "We are ready to prepare the necessary data to implement the 3D HTML figure 3D_lithosomes_LRD.html"
   ]
  },
  {
   "cell_type": "markdown",
   "metadata": {},
   "source": [
    "The function `data_lithosome` we defined makes use of the function `Mesh3d` by `plotly.graph_objects` to shape the data in the appropriated format to draw the figure. We aplicate `data_lithosome` to each lithosome."
   ]
  },
  {
   "cell_type": "code",
   "execution_count": 34,
   "metadata": {},
   "outputs": [],
   "source": [
    "# Data for gravels\n",
    "data_grlithosomes=[data_lithosome(x[0],x[2],x[3],0,1,'skyblue') for x in list_grlithosomes]\n",
    "\n",
    "# Data for sands\n",
    "data_sndlithosomes=[data_lithosome(x[0],x[2],x[3],0,1,'lemonchiffon') for x in list_sndlithosomes]"
   ]
  },
  {
   "cell_type": "markdown",
   "metadata": {},
   "source": [
    "The figure 3D_lithosomes.html gives a view of the lithosomes ."
   ]
  },
  {
   "cell_type": "code",
   "execution_count": 35,
   "metadata": {},
   "outputs": [],
   "source": [
    "dat=marks_data+data_grlithosomes+data_sndlithosomes"
   ]
  },
  {
   "cell_type": "code",
   "execution_count": 37,
   "metadata": {},
   "outputs": [
    {
     "data": {
      "text/plain": [
       "'figures/3D_lithosomes.html'"
      ]
     },
     "execution_count": 37,
     "metadata": {},
     "output_type": "execute_result"
    }
   ],
   "source": [
    "fig=go.Figure(data=dat)\n",
    "\n",
    "fig.add_trace(go.Scatter3d(x=xyzcontourn[0],y=xyzcontourn[1],z=xyzcontourn[2], mode=\"lines\",\n",
    "                           line_width=5,\n",
    "                           name='Delta Contour',\n",
    "                           marker = dict(\n",
    "                               size = 4,\n",
    "                               color = 'black'\n",
    "                               )\n",
    "                          )\n",
    "             )\n",
    "\n",
    "fig.update_layout( title=\"3D lithosomes Llobregat Delta, Z scale is x 100.\",\n",
    "    scene=dict(aspectratio=dict(x=2, y=2, z=1),\n",
    "                             xaxis = dict(range=[bound[0]-2000,bound[1]+2000],),\n",
    "                             yaxis = dict(range=[bound[2]-2000,bound[3]+2000])\n",
    "                            )\n",
    "                 )\n",
    "\n",
    "\n",
    "#fig.show()\n",
    "go_offline.plot(fig,filename=FIGURESDIR+'3D_lithosomes.html',validate=True, auto_open=False)"
   ]
  },
  {
   "cell_type": "markdown",
   "metadata": {},
   "source": [
    "## The basement surface."
   ]
  },
  {
   "cell_type": "markdown",
   "metadata": {},
   "source": [
    "We also want to add the Pliocene basement top surface to the 3D figure. We are going to use the knn predictions for de basament but again we reduce the grid size to 50 to reduce the computation time."
   ]
  },
  {
   "cell_type": "code",
   "execution_count": 38,
   "metadata": {},
   "outputs": [],
   "source": [
    "basement_knn50=[xyc(boreholes_data,contourn_poly,axis,3,h,50) for h in Heights]"
   ]
  },
  {
   "cell_type": "markdown",
   "metadata": {},
   "source": [
    "Now we zip the data in basement_knn50 to get a list with the coordinates (UTM_X,UTM_Y,Z) and save the output list to a CSV file for processing. You can run the following two code lines just once."
   ]
  },
  {
   "cell_type": "code",
   "execution_count": 39,
   "metadata": {},
   "outputs": [],
   "source": [
    "xyzbasement=np.concatenate([np.array(list(zip(x[0],x[1],x[2]))) for x in basement_knn50])"
   ]
  },
  {
   "cell_type": "code",
   "execution_count": 40,
   "metadata": {},
   "outputs": [],
   "source": [
    "df=pd.DataFrame(xyzbasement,columns=[\"UTM_X\",\"UTM_Y\",\"Cota\"])\n",
    "df.to_csv(DATADIR+'basement_knn50.csv',index=False)"
   ]
  },
  {
   "cell_type": "markdown",
   "metadata": {},
   "source": [
    "We read the knn predicted data from the CSV file."
   ]
  },
  {
   "cell_type": "code",
   "execution_count": 41,
   "metadata": {},
   "outputs": [],
   "source": [
    "basementknn50=pd.read_csv(DATADIR+'basement_knn50.csv')"
   ]
  },
  {
   "cell_type": "code",
   "execution_count": 42,
   "metadata": {},
   "outputs": [
    {
     "data": {
      "text/html": [
       "<div>\n",
       "<style scoped>\n",
       "    .dataframe tbody tr th:only-of-type {\n",
       "        vertical-align: middle;\n",
       "    }\n",
       "\n",
       "    .dataframe tbody tr th {\n",
       "        vertical-align: top;\n",
       "    }\n",
       "\n",
       "    .dataframe thead th {\n",
       "        text-align: right;\n",
       "    }\n",
       "</style>\n",
       "<table border=\"1\" class=\"dataframe\">\n",
       "  <thead>\n",
       "    <tr style=\"text-align: right;\">\n",
       "      <th></th>\n",
       "      <th>UTM_X</th>\n",
       "      <th>UTM_Y</th>\n",
       "      <th>Cota</th>\n",
       "    </tr>\n",
       "  </thead>\n",
       "  <tbody>\n",
       "    <tr>\n",
       "      <th>0</th>\n",
       "      <td>426262.285714</td>\n",
       "      <td>4.580059e+06</td>\n",
       "      <td>0.0</td>\n",
       "    </tr>\n",
       "    <tr>\n",
       "      <th>1</th>\n",
       "      <td>426640.979592</td>\n",
       "      <td>4.580059e+06</td>\n",
       "      <td>0.0</td>\n",
       "    </tr>\n",
       "    <tr>\n",
       "      <th>2</th>\n",
       "      <td>426640.979592</td>\n",
       "      <td>4.580346e+06</td>\n",
       "      <td>0.0</td>\n",
       "    </tr>\n",
       "    <tr>\n",
       "      <th>3</th>\n",
       "      <td>427019.673469</td>\n",
       "      <td>4.580346e+06</td>\n",
       "      <td>0.0</td>\n",
       "    </tr>\n",
       "    <tr>\n",
       "      <th>4</th>\n",
       "      <td>426640.979592</td>\n",
       "      <td>4.580632e+06</td>\n",
       "      <td>0.0</td>\n",
       "    </tr>\n",
       "    <tr>\n",
       "      <th>...</th>\n",
       "      <td>...</td>\n",
       "      <td>...</td>\n",
       "      <td>...</td>\n",
       "    </tr>\n",
       "    <tr>\n",
       "      <th>11731</th>\n",
       "      <td>419445.795918</td>\n",
       "      <td>4.582064e+06</td>\n",
       "      <td>-120.0</td>\n",
       "    </tr>\n",
       "    <tr>\n",
       "      <th>11732</th>\n",
       "      <td>419824.489796</td>\n",
       "      <td>4.582064e+06</td>\n",
       "      <td>-120.0</td>\n",
       "    </tr>\n",
       "    <tr>\n",
       "      <th>11733</th>\n",
       "      <td>418688.408163</td>\n",
       "      <td>4.582350e+06</td>\n",
       "      <td>-120.0</td>\n",
       "    </tr>\n",
       "    <tr>\n",
       "      <th>11734</th>\n",
       "      <td>419067.102041</td>\n",
       "      <td>4.582350e+06</td>\n",
       "      <td>-120.0</td>\n",
       "    </tr>\n",
       "    <tr>\n",
       "      <th>11735</th>\n",
       "      <td>419445.795918</td>\n",
       "      <td>4.582350e+06</td>\n",
       "      <td>-120.0</td>\n",
       "    </tr>\n",
       "  </tbody>\n",
       "</table>\n",
       "<p>11736 rows × 3 columns</p>\n",
       "</div>"
      ],
      "text/plain": [
       "               UTM_X         UTM_Y   Cota\n",
       "0      426262.285714  4.580059e+06    0.0\n",
       "1      426640.979592  4.580059e+06    0.0\n",
       "2      426640.979592  4.580346e+06    0.0\n",
       "3      427019.673469  4.580346e+06    0.0\n",
       "4      426640.979592  4.580632e+06    0.0\n",
       "...              ...           ...    ...\n",
       "11731  419445.795918  4.582064e+06 -120.0\n",
       "11732  419824.489796  4.582064e+06 -120.0\n",
       "11733  418688.408163  4.582350e+06 -120.0\n",
       "11734  419067.102041  4.582350e+06 -120.0\n",
       "11735  419445.795918  4.582350e+06 -120.0\n",
       "\n",
       "[11736 rows x 3 columns]"
      ]
     },
     "execution_count": 42,
     "metadata": {},
     "output_type": "execute_result"
    }
   ],
   "source": [
    "basementknn50"
   ]
  },
  {
   "cell_type": "markdown",
   "metadata": {},
   "source": [
    "The function `coordinates(data, positions)` lists the UTM_X, UTM_Y and Z coordinates extracted from 'data' by looking at the data indicated at 'positions'."
   ]
  },
  {
   "cell_type": "code",
   "execution_count": 44,
   "metadata": {},
   "outputs": [],
   "source": [
    "coordinates_basementknn50=coordinates(DATADIR+'basement_knn50.csv',[0,1,2])"
   ]
  },
  {
   "cell_type": "markdown",
   "metadata": {},
   "source": [
    "There is a lot of data in coordinates_basementknn50. We reduce this data by simply taking the integer part of each UTM_X and UTM_Y coordinate, which means reducing the precision to meters."
   ]
  },
  {
   "cell_type": "code",
   "execution_count": 46,
   "metadata": {},
   "outputs": [],
   "source": [
    "int_xyz=[(int(coordinates_basementknn50[0][i]),\n",
    "          int(coordinates_basementknn50[1][i]),\n",
    "          int(coordinates_basementknn50[2][i])) for i in range(len(coordinates_basementknn50[0]))]\n"
   ]
  },
  {
   "cell_type": "code",
   "execution_count": 47,
   "metadata": {},
   "outputs": [],
   "source": [
    "df2=pd.DataFrame(int_xyz,columns=[\"UTM_X\",\"UTM_Y\",\"Cota\"])\n",
    "df2.to_csv(DATADIR+'basementknn50int.csv',index=False)"
   ]
  },
  {
   "cell_type": "code",
   "execution_count": 48,
   "metadata": {},
   "outputs": [],
   "source": [
    "basementknn50int=pd.read_csv(DATADIR+'basementknn50int.csv')"
   ]
  },
  {
   "cell_type": "code",
   "execution_count": 49,
   "metadata": {},
   "outputs": [
    {
     "data": {
      "text/html": [
       "<div>\n",
       "<style scoped>\n",
       "    .dataframe tbody tr th:only-of-type {\n",
       "        vertical-align: middle;\n",
       "    }\n",
       "\n",
       "    .dataframe tbody tr th {\n",
       "        vertical-align: top;\n",
       "    }\n",
       "\n",
       "    .dataframe thead th {\n",
       "        text-align: right;\n",
       "    }\n",
       "</style>\n",
       "<table border=\"1\" class=\"dataframe\">\n",
       "  <thead>\n",
       "    <tr style=\"text-align: right;\">\n",
       "      <th></th>\n",
       "      <th>UTM_X</th>\n",
       "      <th>UTM_Y</th>\n",
       "      <th>Cota</th>\n",
       "    </tr>\n",
       "  </thead>\n",
       "  <tbody>\n",
       "    <tr>\n",
       "      <th>0</th>\n",
       "      <td>426262</td>\n",
       "      <td>4580059</td>\n",
       "      <td>0</td>\n",
       "    </tr>\n",
       "    <tr>\n",
       "      <th>1</th>\n",
       "      <td>426640</td>\n",
       "      <td>4580059</td>\n",
       "      <td>0</td>\n",
       "    </tr>\n",
       "    <tr>\n",
       "      <th>2</th>\n",
       "      <td>426640</td>\n",
       "      <td>4580345</td>\n",
       "      <td>0</td>\n",
       "    </tr>\n",
       "    <tr>\n",
       "      <th>3</th>\n",
       "      <td>427019</td>\n",
       "      <td>4580345</td>\n",
       "      <td>0</td>\n",
       "    </tr>\n",
       "    <tr>\n",
       "      <th>4</th>\n",
       "      <td>426640</td>\n",
       "      <td>4580632</td>\n",
       "      <td>0</td>\n",
       "    </tr>\n",
       "    <tr>\n",
       "      <th>...</th>\n",
       "      <td>...</td>\n",
       "      <td>...</td>\n",
       "      <td>...</td>\n",
       "    </tr>\n",
       "    <tr>\n",
       "      <th>11731</th>\n",
       "      <td>419445</td>\n",
       "      <td>4582063</td>\n",
       "      <td>-120</td>\n",
       "    </tr>\n",
       "    <tr>\n",
       "      <th>11732</th>\n",
       "      <td>419824</td>\n",
       "      <td>4582063</td>\n",
       "      <td>-120</td>\n",
       "    </tr>\n",
       "    <tr>\n",
       "      <th>11733</th>\n",
       "      <td>418688</td>\n",
       "      <td>4582350</td>\n",
       "      <td>-120</td>\n",
       "    </tr>\n",
       "    <tr>\n",
       "      <th>11734</th>\n",
       "      <td>419067</td>\n",
       "      <td>4582350</td>\n",
       "      <td>-120</td>\n",
       "    </tr>\n",
       "    <tr>\n",
       "      <th>11735</th>\n",
       "      <td>419445</td>\n",
       "      <td>4582350</td>\n",
       "      <td>-120</td>\n",
       "    </tr>\n",
       "  </tbody>\n",
       "</table>\n",
       "<p>11736 rows × 3 columns</p>\n",
       "</div>"
      ],
      "text/plain": [
       "        UTM_X    UTM_Y  Cota\n",
       "0      426262  4580059     0\n",
       "1      426640  4580059     0\n",
       "2      426640  4580345     0\n",
       "3      427019  4580345     0\n",
       "4      426640  4580632     0\n",
       "...       ...      ...   ...\n",
       "11731  419445  4582063  -120\n",
       "11732  419824  4582063  -120\n",
       "11733  418688  4582350  -120\n",
       "11734  419067  4582350  -120\n",
       "11735  419445  4582350  -120\n",
       "\n",
       "[11736 rows x 3 columns]"
      ]
     },
     "execution_count": 49,
     "metadata": {},
     "output_type": "execute_result"
    }
   ],
   "source": [
    "basementknn50int"
   ]
  },
  {
   "cell_type": "code",
   "execution_count": 51,
   "metadata": {},
   "outputs": [],
   "source": [
    "coordinates_basementknn50int=coordinates(DATADIR+'basementknn50int.csv',[0,1,2])"
   ]
  },
  {
   "cell_type": "markdown",
   "metadata": {},
   "source": [
    "Then we calculate the points where the Z coordinate is maximum, that is, the points where the basement is reached first and save the corresponding output data to a CSV file, again the following code lines only need to be run once."
   ]
  },
  {
   "cell_type": "code",
   "execution_count": 55,
   "metadata": {},
   "outputs": [],
   "source": [
    "aux1=[basementknn50int.loc[(basementknn50int['UTM_X']== int(x[0]))&\n",
    "                           (basementknn50int['UTM_Y']==int(x[1]))] for x in int_xyz]"
   ]
  },
  {
   "cell_type": "code",
   "execution_count": 56,
   "metadata": {},
   "outputs": [],
   "source": [
    "aux2=[aux1[i].loc[(aux1[i]['Cota']==aux1[i].max()[2])] for i in range(len(aux1))]"
   ]
  },
  {
   "cell_type": "code",
   "execution_count": 57,
   "metadata": {},
   "outputs": [],
   "source": [
    "aux3=pd.concat(aux2, ignore_index=True)\n",
    "\n",
    "aux3.to_csv(DATADIR+'basementknn50max.csv', index=False)"
   ]
  },
  {
   "cell_type": "markdown",
   "metadata": {},
   "source": [
    "We read the CSV file."
   ]
  },
  {
   "cell_type": "code",
   "execution_count": 58,
   "metadata": {},
   "outputs": [],
   "source": [
    "basementknn50max=pd.read_csv(DATADIR+'basementknn50max.csv')"
   ]
  },
  {
   "cell_type": "code",
   "execution_count": 59,
   "metadata": {},
   "outputs": [
    {
     "data": {
      "text/html": [
       "<div>\n",
       "<style scoped>\n",
       "    .dataframe tbody tr th:only-of-type {\n",
       "        vertical-align: middle;\n",
       "    }\n",
       "\n",
       "    .dataframe tbody tr th {\n",
       "        vertical-align: top;\n",
       "    }\n",
       "\n",
       "    .dataframe thead th {\n",
       "        text-align: right;\n",
       "    }\n",
       "</style>\n",
       "<table border=\"1\" class=\"dataframe\">\n",
       "  <thead>\n",
       "    <tr style=\"text-align: right;\">\n",
       "      <th></th>\n",
       "      <th>UTM_X</th>\n",
       "      <th>UTM_Y</th>\n",
       "      <th>Cota</th>\n",
       "    </tr>\n",
       "  </thead>\n",
       "  <tbody>\n",
       "    <tr>\n",
       "      <th>0</th>\n",
       "      <td>426262</td>\n",
       "      <td>4580059</td>\n",
       "      <td>0</td>\n",
       "    </tr>\n",
       "    <tr>\n",
       "      <th>1</th>\n",
       "      <td>426640</td>\n",
       "      <td>4580059</td>\n",
       "      <td>0</td>\n",
       "    </tr>\n",
       "    <tr>\n",
       "      <th>2</th>\n",
       "      <td>426640</td>\n",
       "      <td>4580345</td>\n",
       "      <td>0</td>\n",
       "    </tr>\n",
       "    <tr>\n",
       "      <th>3</th>\n",
       "      <td>427019</td>\n",
       "      <td>4580345</td>\n",
       "      <td>0</td>\n",
       "    </tr>\n",
       "    <tr>\n",
       "      <th>4</th>\n",
       "      <td>426640</td>\n",
       "      <td>4580632</td>\n",
       "      <td>0</td>\n",
       "    </tr>\n",
       "    <tr>\n",
       "      <th>...</th>\n",
       "      <td>...</td>\n",
       "      <td>...</td>\n",
       "      <td>...</td>\n",
       "    </tr>\n",
       "    <tr>\n",
       "      <th>11731</th>\n",
       "      <td>419445</td>\n",
       "      <td>4582063</td>\n",
       "      <td>-35</td>\n",
       "    </tr>\n",
       "    <tr>\n",
       "      <th>11732</th>\n",
       "      <td>419824</td>\n",
       "      <td>4582063</td>\n",
       "      <td>-35</td>\n",
       "    </tr>\n",
       "    <tr>\n",
       "      <th>11733</th>\n",
       "      <td>418688</td>\n",
       "      <td>4582350</td>\n",
       "      <td>-35</td>\n",
       "    </tr>\n",
       "    <tr>\n",
       "      <th>11734</th>\n",
       "      <td>419067</td>\n",
       "      <td>4582350</td>\n",
       "      <td>-35</td>\n",
       "    </tr>\n",
       "    <tr>\n",
       "      <th>11735</th>\n",
       "      <td>419445</td>\n",
       "      <td>4582350</td>\n",
       "      <td>-35</td>\n",
       "    </tr>\n",
       "  </tbody>\n",
       "</table>\n",
       "<p>11736 rows × 3 columns</p>\n",
       "</div>"
      ],
      "text/plain": [
       "        UTM_X    UTM_Y  Cota\n",
       "0      426262  4580059     0\n",
       "1      426640  4580059     0\n",
       "2      426640  4580345     0\n",
       "3      427019  4580345     0\n",
       "4      426640  4580632     0\n",
       "...       ...      ...   ...\n",
       "11731  419445  4582063   -35\n",
       "11732  419824  4582063   -35\n",
       "11733  418688  4582350   -35\n",
       "11734  419067  4582350   -35\n",
       "11735  419445  4582350   -35\n",
       "\n",
       "[11736 rows x 3 columns]"
      ]
     },
     "execution_count": 59,
     "metadata": {},
     "output_type": "execute_result"
    }
   ],
   "source": [
    "basementknn50max"
   ]
  },
  {
   "cell_type": "markdown",
   "metadata": {},
   "source": [
    "Now we apply the fuction `coordinates`and computed new bounds for interpolation."
   ]
  },
  {
   "cell_type": "code",
   "execution_count": 60,
   "metadata": {},
   "outputs": [],
   "source": [
    "basement_coordinates=coordinates(DATADIR+'basementknn50max.csv',[0,1,2])"
   ]
  },
  {
   "cell_type": "code",
   "execution_count": 62,
   "metadata": {},
   "outputs": [],
   "source": [
    "basement_bounds=[min(basement_coordinates[0]),max(basement_coordinates[0]),\n",
    "                 min(basement_coordinates[1]),max(basement_coordinates[1]),\n",
    "                max(basement_coordinates[0])-min(basement_coordinates[0]),\n",
    "                 max(basement_coordinates[1])-min(basement_coordinates[1])]\n",
    "new_bounds=bounds_join(bound,basement_bounds)"
   ]
  },
  {
   "cell_type": "markdown",
   "metadata": {},
   "source": [
    "Now we interpolate the knn predictions."
   ]
  },
  {
   "cell_type": "code",
   "execution_count": 63,
   "metadata": {},
   "outputs": [],
   "source": [
    "interpolation_knnbasement=interpolation(basement_coordinates,50,new_bounds)"
   ]
  },
  {
   "cell_type": "markdown",
   "metadata": {},
   "source": [
    "And we use the function `cutting` to to restrict the data to the delta countourn."
   ]
  },
  {
   "cell_type": "code",
   "execution_count": 64,
   "metadata": {},
   "outputs": [],
   "source": [
    "interpolation_knnbasementcutted=cutting(interpolation_knnbasement,contourn_poly,500)"
   ]
  },
  {
   "cell_type": "markdown",
   "metadata": {},
   "source": [
    "The figure 3D_basement.html will shows only the basement surface."
   ]
  },
  {
   "cell_type": "code",
   "execution_count": 65,
   "metadata": {},
   "outputs": [],
   "source": [
    "data_basement=data_p([basement_coordinates],['basementknn'],['red'],['circle'],2)"
   ]
  },
  {
   "cell_type": "code",
   "execution_count": 66,
   "metadata": {},
   "outputs": [],
   "source": [
    "dat2=marks_data+data_basement"
   ]
  },
  {
   "cell_type": "code",
   "execution_count": 68,
   "metadata": {},
   "outputs": [
    {
     "data": {
      "text/plain": [
       "'figures/3D_basement.html'"
      ]
     },
     "execution_count": 68,
     "metadata": {},
     "output_type": "execute_result"
    }
   ],
   "source": [
    "fig=go.Figure(data=dat2)\n",
    "fig.add_trace(go.Scatter3d(x=xyzcontourn[0],y=xyzcontourn[1],z=xyzcontourn[2], mode=\"lines\",\n",
    "                           line_width=5,\n",
    "                           name='Delta Contour',\n",
    "                           marker = dict(\n",
    "                               size = 4,\n",
    "                               color = 'black'\n",
    "                               )\n",
    "                          )\n",
    "             )\n",
    "\n",
    "fig.add_trace(go.Surface(z=interpolation_knnbasementcutted[0],x=interpolation_knnbasementcutted[1],\n",
    "                         y=interpolation_knnbasementcutted[2], \n",
    "                        opacity = 0.7,\n",
    "                        colorscale='oryel', \n",
    "                        name='basement surface',\n",
    "                        showscale=True\n",
    "                        )             \n",
    "             )\n",
    "\n",
    "fig.update_layout(legend=dict(\n",
    "    yanchor=\"top\",\n",
    "    y=0.99,\n",
    "    xanchor=\"left\",\n",
    "    x=0.01\n",
    "))\n",
    "\n",
    "fig.update_layout( title=\"3D Basement surface Llobregat Delta, Z scale is x 100.\",\n",
    "    scene=dict(aspectratio=dict(x=2, y=2, z=1),\n",
    "                             xaxis = dict(range=[bound[0]-2000,bound[1]+2000],),\n",
    "                             yaxis = dict(range=[bound[2]-2000,bound[3]+2000])\n",
    "                            )\n",
    "                 )\n",
    "\n",
    "\n",
    "#fig.show()\n",
    "go_offline.plot(fig,filename=FIGURESDIR+'3D_basement.html',validate=True, auto_open=False)"
   ]
  },
  {
   "cell_type": "markdown",
   "metadata": {},
   "source": [
    "In the figure 3D_lithosomes_LRD.html we show the lithosomes and the basement surface."
   ]
  },
  {
   "cell_type": "code",
   "execution_count": 71,
   "metadata": {},
   "outputs": [],
   "source": [
    "dat3=marks_data+data_grlithosomes+data_sndlithosomes"
   ]
  },
  {
   "cell_type": "code",
   "execution_count": 72,
   "metadata": {},
   "outputs": [
    {
     "data": {
      "text/plain": [
       "'figures/3D_lithosomes_LRD.html'"
      ]
     },
     "execution_count": 72,
     "metadata": {},
     "output_type": "execute_result"
    }
   ],
   "source": [
    "fig=go.Figure(data=dat3)\n",
    "fig.add_trace(go.Scatter3d(x=xyzcontourn[0],y=xyzcontourn[1],z=xyzcontourn[2], mode=\"lines\",\n",
    "                           line_width=5,\n",
    "                           name='Delta Contour',\n",
    "                           marker = dict(\n",
    "                               size = 4,\n",
    "                               color = 'black'\n",
    "                               )\n",
    "                          )\n",
    "             )\n",
    "\n",
    "fig.add_trace(go.Surface(z=interpolation_knnbasementcutted[0],x=interpolation_knnbasementcutted[1],\n",
    "                         y=interpolation_knnbasementcutted[2], \n",
    "                        opacity = 0.7,\n",
    "                        colorscale='oryel', \n",
    "                        name='basement surface',\n",
    "                        showscale=True\n",
    "                        )             \n",
    "             )\n",
    "\n",
    "fig.update_layout(legend=dict(\n",
    "    yanchor=\"top\",\n",
    "    y=0.99,\n",
    "    xanchor=\"left\",\n",
    "    x=0.001\n",
    "))\n",
    "\n",
    "fig.update_layout( title=\"3D Basement surface Llobregat Delta, Z scale is x 100.\",\n",
    "    scene=dict(aspectratio=dict(x=2, y=2, z=1),\n",
    "                             xaxis = dict(range=[bound[0]-2000,bound[1]+2000],),\n",
    "                             yaxis = dict(range=[bound[2]-2000,bound[3]+2000])\n",
    "                            )\n",
    "                 )\n",
    "\n",
    "\n",
    "#fig.show()\n",
    "go_offline.plot(fig,filename=FIGURESDIR+'3D_lithosomes_LRD.html',validate=True, auto_open=False)"
   ]
  }
 ],
 "metadata": {
  "kernelspec": {
   "display_name": "Python 3",
   "language": "python",
   "name": "python3"
  },
  "language_info": {
   "codemirror_mode": {
    "name": "ipython",
    "version": 3
   },
   "file_extension": ".py",
   "mimetype": "text/x-python",
   "name": "python",
   "nbconvert_exporter": "python",
   "pygments_lexer": "ipython3",
   "version": "3.8.10"
  }
 },
 "nbformat": 4,
 "nbformat_minor": 5
}
